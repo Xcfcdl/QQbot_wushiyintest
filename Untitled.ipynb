{
 "cells": [
  {
   "cell_type": "code",
   "execution_count": 6,
   "metadata": {
    "collapsed": false
   },
   "outputs": [],
   "source": [
    "#!/usr/bin/python3\n",
    "# -*- coding: utf-8 -*-\n",
    "from sql_do import *\n",
    "import time\n",
    "\n",
    "def getTimu():\n",
    "    import random\n",
    "    data = get_timu(random.randint(1, 46))\n",
    "    return data[0]\n",
    "\n",
    "\n",
    "def get_timenow():\n",
    "    import time\n",
    "    # 获取当前时间\n",
    "    time_now = int(time.time())\n",
    "    # 转换成localtime\n",
    "    time_local = time.localtime(time_now)\n",
    "    # 转换成新的时间格式(2016-05-09 18:59:20)\n",
    "    dt = time.strftime(\"%Y-%m-%d %H:%M:%S\", time_local)\n",
    "    return dt\n",
    "\n",
    "\n",
    "def getKana(_qq):\n",
    "    if not get_onekana(_qq):\n",
    "        try:\n",
    "            sql_do.bulid_db()\n",
    "        except:\n",
    "            pass\n",
    "        finally:\n",
    "            kanamodelinsert(_qq, 0, 0, '2017-01-01 00:00:00')\n",
    "    return get_onekana(_qq)[0]\n",
    "\n",
    "\n",
    "def time_cul(starttime):\n",
    "    from datetime import datetime\n",
    "    d, h, m, s = 0, 0, 0, 0\n",
    "    cul = datetime.now() - datetime.strptime(starttime, \"%Y-%m-%d %H:%M:%S\")\n",
    "    d = cul.days\n",
    "    s = cul.seconds\n",
    "    if s > 60:\n",
    "        m = s // 60\n",
    "        s = s % 60\n",
    "        if m > 60:\n",
    "            h = m // 60\n",
    "            m = m % 60\n",
    "    return [d, h, m, s]\n",
    "\n",
    "\n",
    "def get_neirong():\n",
    "    # 返回题目容许字符\n",
    "    a = get_kana()\n",
    "    # a = a + get_ao_yin()\n",
    "    a = str(a)\n",
    "    for i in [\"(\", \")\", \"[\", \"]\", \",\", \" \", \"'\", '0', '1', '2', '3', '4', '5', '6', '7', '8', '9']:\n",
    "        a = a.replace(i, '')\n",
    "    return a\n",
    "\n",
    "\n",
    "class TestSystem():\n",
    "    \"\"\"接收信息返回信息\"\"\"\n",
    "\n",
    "    def __init__(self, qq, content):\n",
    "        self.msg = content.lower()\n",
    "        self.answer_now = ''\n",
    "        self.goals = 0\n",
    "        self.qq, self.modeswitch, self.count, self.starttime = getKana(qq)\n",
    "        self.testtime = time_cul(self.starttime)\n",
    "        # 间隔时间\n",
    "\n",
    "    def main(self):\n",
    "        \"\"\"\n",
    "        1检测是否已经开始做题了\n",
    "        2检测是否为相关命令\n",
    "        3检测是否为答案\n",
    "        \"\"\"\n",
    "        if self.modeswitch:\n",
    "            print('modw' + str(self.modeswitch))\n",
    "            if self.msg in get_neirong():\n",
    "                if get_onegoals(str(int(time.mktime(time.strptime(self.starttime, '%Y-%m-%d %H:%M:%S')))) + str(self.qq)):\n",
    "                    self._qq, self._sq, self.goals, self.timu = get_onegoals(\n",
    "                        str(int(time.mktime(time.strptime(self.starttime, '%Y-%m-%d %H:%M:%S')))) + str(self.qq))[0]\n",
    "                    print(self._qq, self._sq, self.goals, self.timu)\n",
    "                else:\n",
    "                    return '数据库出错'\n",
    "                \n",
    "                if self.count < 10:\n",
    "                    self.timu = get_timu(self.timu)\n",
    "                    self.answer_now = self.msg\n",
    "                    self.count += 1\n",
    "                    # 做题..\n",
    "                    if self.answer_now == self.timu[0][2]:\n",
    "                        self.goals += 10\n",
    "                        r = '回答正确，'\n",
    "                    else:\n",
    "                        r = '回答错误，'\n",
    "                    update_kanamodel(self.qq, self.modeswitch,\n",
    "                                     self.count, self.starttime)\n",
    "                    chigi = getTimu()\n",
    "                    print(str(chigi))\n",
    "                    update_usergoals(self.qq, str(int(time.mktime(time.strptime(self.starttime,'%Y-%m-%d %H:%M:%S')))) + str(self.qq), self.goals, chigi[0])\n",
    "                    return r + '次は： 【' + chigi[1] + '】\\nの片仮名は？'\n",
    "\n",
    "                else:\n",
    "                    return '你打穿了题库请输入【结束】来结束本次测试。'\n",
    "\n",
    "            else:\n",
    "\n",
    "                if self.msg == '结束':\n",
    "                    self.modeswitch = 0\n",
    "                    update_kanamodel(self.qq, self.modeswitch,\n",
    "                                     self.count, self.starttime)\n",
    "                    self._qq, self._sq, self.goals, self.timu = get_onegoals(\n",
    "                        str(int(time.mktime(time.strptime(self.starttime, '%Y-%m-%d %H:%M:%S')))) + str(self.qq))[0]\n",
    "                    return '已结束五十音测试，您的成绩为：' + str(self.goals)\n",
    "\n",
    "                else:\n",
    "                    return \"输入有误，只能输入相关命令/假名/罗马音/相关命令\"\n",
    "        if self.msg == '开始':\n",
    "            self.modeswitch = 1\n",
    "            self.count = 1\n",
    "            self.goals = 0\n",
    "            self.starttime = get_timenow()\n",
    "            update_kanamodel(self.qq, self.modeswitch,\n",
    "                             self.count, self.starttime)\n",
    "            chigi = getTimu()\n",
    "            usergoalsinsert(self.qq, str(int(time.mktime(time.strptime(self.starttime,'%Y-%m-%d %H:%M:%S')))) +\n",
    "                            str(self.qq), self.goals, chigi[0])\n",
    "            return '首は： 【' + chigi[1] + '】の片仮名は？'\n",
    "        elif self.msg == '查询历史成绩':\n",
    "            data = get_kanagoals()\n",
    "            if data:\n",
    "                pass\n",
    "            else:\n",
    "                data = '未创建'\n",
    "            return str(data)\n",
    "        else:\n",
    "            return \"是否开始五十音测试？请输入：\\n开始\\n查询历史成绩\\n结束\"\n"
   ]
  },
  {
   "cell_type": "code",
   "execution_count": 21,
   "metadata": {
    "collapsed": false
   },
   "outputs": [
    {
     "name": "stdout",
     "output_type": "stream",
     "text": [
      "modw1\n"
     ]
    },
    {
     "data": {
      "text/plain": [
       "'已结束五十音测试，您的成绩为：100'"
      ]
     },
     "execution_count": 21,
     "metadata": {},
     "output_type": "execute_result"
    }
   ],
   "source": [
    "TestSystem('746953601','结束').main()"
   ]
  },
  {
   "cell_type": "code",
   "execution_count": 12,
   "metadata": {
    "collapsed": false
   },
   "outputs": [],
   "source": [
    "bulid_db()"
   ]
  },
  {
   "cell_type": "code",
   "execution_count": 28,
   "metadata": {
    "collapsed": false
   },
   "outputs": [
    {
     "data": {
      "text/plain": [
       "1510368529.0"
      ]
     },
     "execution_count": 28,
     "metadata": {},
     "output_type": "execute_result"
    }
   ],
   "source": [
    "str(int(time.mktime(time.strptime(a,'%Y-%m-%d %H:%M:%S'))))"
   ]
  },
  {
   "cell_type": "code",
   "execution_count": 25,
   "metadata": {
    "collapsed": false
   },
   "outputs": [
    {
     "data": {
      "text/plain": [
       "[(746953609, '2017-11-10 13:39:29746953609', 0, '43'),\n",
       " (746953609, '2017-11-10 23:38:01746953609', 0, '3')]"
      ]
     },
     "execution_count": 25,
     "metadata": {},
     "output_type": "execute_result"
    }
   ],
   "source": [
    "get_one_allgoals('746953609')"
   ]
  },
  {
   "cell_type": "code",
   "execution_count": 14,
   "metadata": {
    "collapsed": false
   },
   "outputs": [],
   "source": [
    "import time"
   ]
  },
  {
   "cell_type": "code",
   "execution_count": 25,
   "metadata": {
    "collapsed": false
   },
   "outputs": [
    {
     "data": {
      "text/plain": [
       "[(1, 'あ', 'ア', 'a'),\n",
       " (2, 'い', 'イ', 'i'),\n",
       " (3, 'う', 'ウ', 'u'),\n",
       " (4, 'え', 'エ', 'e'),\n",
       " (5, 'お', 'オ', 'o'),\n",
       " (6, 'か', 'カ', 'ka'),\n",
       " (7, 'き', 'キ', 'ki'),\n",
       " (8, 'く', 'ク', 'ku'),\n",
       " (9, 'け', 'ケ', 'ke'),\n",
       " (10, 'こ', 'コ', 'ko'),\n",
       " (11, 'さ', 'サ', 'sa'),\n",
       " (12, 'し', 'シ', 'si'),\n",
       " (13, 'す', 'ス', 'su'),\n",
       " (14, 'せ', 'セ', 'se'),\n",
       " (15, 'そ', 'ソ', 'so'),\n",
       " (16, 'た', 'タ', 'ta'),\n",
       " (17, 'ち', 'チ', 'chi'),\n",
       " (18, 'つ', 'ツ', 'tsu'),\n",
       " (19, 'て', 'テ', 'te'),\n",
       " (20, 'と', 'ト', 'to'),\n",
       " (21, 'な', 'ナ', 'na'),\n",
       " (22, 'に', 'ニ', 'ni'),\n",
       " (23, 'ぬ', 'ヌ', 'nu'),\n",
       " (24, 'ね', 'ネ', 'ne'),\n",
       " (25, 'の', 'ノ', 'no'),\n",
       " (26, 'は', 'ハ', 'ha'),\n",
       " (27, 'ひ', 'ヒ', 'hi'),\n",
       " (28, 'ふ', 'フ', 'hu'),\n",
       " (29, 'へ', 'ヘ', 'he'),\n",
       " (30, 'ほ', 'ホ', 'ho'),\n",
       " (31, 'ま', 'マ', 'ma'),\n",
       " (32, 'み', 'ミ', 'mi'),\n",
       " (33, 'む', 'ム', 'mu'),\n",
       " (34, 'め', 'メ', 'me'),\n",
       " (35, 'も', 'モ', 'mo'),\n",
       " (36, 'や', 'ヤ', 'ya'),\n",
       " (37, 'ゆ', 'ユ', 'yu'),\n",
       " (38, 'よ', 'ヨ', 'yo'),\n",
       " (39, 'ら', 'ラ', 'ra'),\n",
       " (40, 'り', 'リ', 'ri'),\n",
       " (41, 'る', 'ル', 'ru'),\n",
       " (42, 'れ', 'レ', 're'),\n",
       " (43, 'ろ', 'ロ', 'ro'),\n",
       " (44, 'わ', 'ワ', 'wa'),\n",
       " (45, 'を', 'ヲ', 'o'),\n",
       " (46, 'ん', 'ン', 'nn')]"
      ]
     },
     "execution_count": 25,
     "metadata": {},
     "output_type": "execute_result"
    }
   ],
   "source": [
    "get_kana()"
   ]
  },
  {
   "cell_type": "code",
   "execution_count": 33,
   "metadata": {
    "collapsed": false
   },
   "outputs": [
    {
     "data": {
      "text/plain": [
       "[(746953609, 1510374581746953609, 80, '25'),\n",
       " (746953609, 1510375527746953609, 40, '34'),\n",
       " (746953609, 1510375860746953609, 0, '25')]"
      ]
     },
     "execution_count": 33,
     "metadata": {},
     "output_type": "execute_result"
    }
   ],
   "source": [
    "from sql_do import *\n",
    "get_one_allgoals('746953609')"
   ]
  },
  {
   "cell_type": "code",
   "execution_count": 37,
   "metadata": {
    "collapsed": false
   },
   "outputs": [],
   "source": [
    "import sqlite3\n",
    "data_path = r\"user_db.db\"\n",
    "conn = sqlite3.connect(data_path)\n",
    "conn.text_factory = str\n",
    "cur = conn.cursor()\n",
    "data = (746953609, '2017-11-10 13:39:29746953609', 10, '43')\n",
    "#\"qq3, time, goals, modelswitch\"\n",
    "#ins = 'update USERGOALS set qq3 = ? where time = ?'\n",
    "#cur.execute(ins, (data[1], data[0]))"
   ]
  },
  {
   "cell_type": "code",
   "execution_count": 30,
   "metadata": {
    "collapsed": false
   },
   "outputs": [
    {
     "name": "stdout",
     "output_type": "stream",
     "text": [
      "2017-11-11 12:00:51分数:90\n",
      "\n"
     ]
    }
   ],
   "source": [
    "datas = get_one_allgoals('746953609')\n",
    "goals = ''\n",
    "for data in datas:\n",
    "    dt = int(str(data[1]).replace('746953609', ''))\n",
    "    x = time.localtime(dt)\n",
    "    dt = time.strftime('%Y-%m-%d %H:%M:%S',x)\n",
    "    goals = dt + '分数:' + str(data[2]) + '\\n'\n",
    "print(goals)"
   ]
  },
  {
   "cell_type": "code",
   "execution_count": 9,
   "metadata": {
    "collapsed": false
   },
   "outputs": [
    {
     "data": {
      "text/plain": [
       "[(746953609, '2017-11-10 13:39:29746953609', 0, '43')]"
      ]
     },
     "execution_count": 9,
     "metadata": {},
     "output_type": "execute_result"
    }
   ],
   "source": [
    "ins = 'select * from USERGOALS where time = ?'\n",
    "cur.execute(ins, ('2017-11-10 13:39:29746953609',))\n",
    "row = cur.fetchall()\n",
    "row"
   ]
  },
  {
   "cell_type": "code",
   "execution_count": null,
   "metadata": {
    "collapsed": false
   },
   "outputs": [],
   "source": [
    "ins = 'update USERGOALS set modelswitch = ? where time = ?'\n",
    "cur.execute(ins, (data[3], data[0]))"
   ]
  },
  {
   "cell_type": "code",
   "execution_count": 39,
   "metadata": {
    "collapsed": false
   },
   "outputs": [
    {
     "name": "stdout",
     "output_type": "stream",
     "text": [
      "1462451334.0\n"
     ]
    }
   ],
   "source": [
    "#coding:UTF-8\n",
    "import time\n",
    "\n",
    "dt = \"2016-05-05 20:28:54\"\n",
    "\n",
    "#转换成时间数组\n",
    "timeArray = time.strptime(dt, \"%Y-%m-%d %H:%M:%S\")\n",
    "#转换成时间戳\n",
    "timestamp = time.mktime(timeArray)\n",
    "\n",
    "print(timestamp)"
   ]
  },
  {
   "cell_type": "code",
   "execution_count": 41,
   "metadata": {
    "collapsed": false
   },
   "outputs": [],
   "source": [
    "timestamp = time.time()"
   ]
  },
  {
   "cell_type": "code",
   "execution_count": 42,
   "metadata": {
    "collapsed": false
   },
   "outputs": [
    {
     "data": {
      "text/plain": [
       "time.struct_time(tm_year=2017, tm_mon=11, tm_mday=11, tm_hour=1, tm_min=2, tm_sec=28, tm_wday=5, tm_yday=315, tm_isdst=0)"
      ]
     },
     "execution_count": 42,
     "metadata": {},
     "output_type": "execute_result"
    }
   ],
   "source": [
    "time_local = time.localtime(timestamp)\n",
    "time_local"
   ]
  },
  {
   "cell_type": "code",
   "execution_count": 55,
   "metadata": {
    "collapsed": false
   },
   "outputs": [
    {
     "ename": "SyntaxError",
     "evalue": "'return' outside function (<ipython-input-55-b949eb1e21fd>, line 3)",
     "output_type": "error",
     "traceback": [
      "\u001b[0;36m  File \u001b[0;32m\"<ipython-input-55-b949eb1e21fd>\"\u001b[0;36m, line \u001b[0;32m3\u001b[0m\n\u001b[0;31m    return 'emmm'\u001b[0m\n\u001b[0m    ^\u001b[0m\n\u001b[0;31mSyntaxError\u001b[0m\u001b[0;31m:\u001b[0m 'return' outside function\n"
     ]
    }
   ],
   "source": [
    "try:\n",
    "    print('try')\n",
    "    return 'emmm'\n",
    "except:\n",
    "    print('ex')\n",
    "finally:\n",
    "    print('ffff')"
   ]
  },
  {
   "cell_type": "code",
   "execution_count": null,
   "metadata": {
    "collapsed": true
   },
   "outputs": [],
   "source": []
  }
 ],
 "metadata": {
  "kernelspec": {
   "display_name": "Python 3",
   "language": "python",
   "name": "python3"
  },
  "language_info": {
   "codemirror_mode": {
    "name": "ipython",
    "version": 3
   },
   "file_extension": ".py",
   "mimetype": "text/x-python",
   "name": "python",
   "nbconvert_exporter": "python",
   "pygments_lexer": "ipython3",
   "version": "3.6.0"
  }
 },
 "nbformat": 4,
 "nbformat_minor": 2
}
